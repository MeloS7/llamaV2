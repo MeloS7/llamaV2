{
 "cells": [
  {
   "cell_type": "code",
   "execution_count": 1,
   "metadata": {},
   "outputs": [
    {
     "name": "stderr",
     "output_type": "stream",
     "text": [
      "Found cached dataset parquet (/home/9130/.cache/huggingface/datasets/OneFly7___parquet/OneFly7--llama2-sst2-fine-tuning-without-system-info-ff57b5730490a513/0.0.0/2a3b91fbd88a2c90d1dbbb32b460cf621d31bd5b05b934492fdef7d8d6f236ec)\n"
     ]
    }
   ],
   "source": [
    "from datasets import load_dataset\n",
    "\n",
    "dataset = load_dataset(\"OneFly7/llama2-sst2-fine-tuning-without-system-info\", split=\"train\")"
   ]
  },
  {
   "cell_type": "code",
   "execution_count": 2,
   "metadata": {},
   "outputs": [
    {
     "data": {
      "text/plain": [
       "{'label_text': 'negative',\n",
       " 'text': '<s>[INST] Sentence: hide new secretions from the parental units  \\nSentiment: [/INST] negative </s>'}"
      ]
     },
     "execution_count": 2,
     "metadata": {},
     "output_type": "execute_result"
    }
   ],
   "source": [
    "dataset[0]"
   ]
  },
  {
   "cell_type": "code",
   "execution_count": 3,
   "metadata": {},
   "outputs": [
    {
     "data": {
      "application/vnd.jupyter.widget-view+json": {
       "model_id": "1007e92e132545dc8dbc9ef02d557981",
       "version_major": 2,
       "version_minor": 0
      },
      "text/plain": [
       "Downloading readme:   0%|          | 0.00/486 [00:00<?, ?B/s]"
      ]
     },
     "metadata": {},
     "output_type": "display_data"
    },
    {
     "name": "stdout",
     "output_type": "stream",
     "text": [
      "Downloading and preparing dataset None/None to /home/9130/.cache/huggingface/datasets/OneFly7___parquet/OneFly7--llama2-politosphere-fine-tuning-supp-anti-others-741ec1876e1ebde6/0.0.0/2a3b91fbd88a2c90d1dbbb32b460cf621d31bd5b05b934492fdef7d8d6f236ec...\n"
     ]
    },
    {
     "data": {
      "application/vnd.jupyter.widget-view+json": {
       "model_id": "afa0e25564ad44f398d32029da675b1b",
       "version_major": 2,
       "version_minor": 0
      },
      "text/plain": [
       "Downloading data files:   0%|          | 0/2 [00:00<?, ?it/s]"
      ]
     },
     "metadata": {},
     "output_type": "display_data"
    },
    {
     "data": {
      "application/vnd.jupyter.widget-view+json": {
       "model_id": "62e690f18b2544d398f74a595a6ba0e4",
       "version_major": 2,
       "version_minor": 0
      },
      "text/plain": [
       "Downloading data:   0%|          | 0.00/13.0k [00:00<?, ?B/s]"
      ]
     },
     "metadata": {},
     "output_type": "display_data"
    },
    {
     "data": {
      "application/vnd.jupyter.widget-view+json": {
       "model_id": "c49229699e254e3ba7c8a581ee0058f2",
       "version_major": 2,
       "version_minor": 0
      },
      "text/plain": [
       "Downloading data:   0%|          | 0.00/12.8k [00:00<?, ?B/s]"
      ]
     },
     "metadata": {},
     "output_type": "display_data"
    },
    {
     "data": {
      "application/vnd.jupyter.widget-view+json": {
       "model_id": "bf73fbf33b3e42288f7fbce58a2159c4",
       "version_major": 2,
       "version_minor": 0
      },
      "text/plain": [
       "Extracting data files:   0%|          | 0/2 [00:00<?, ?it/s]"
      ]
     },
     "metadata": {},
     "output_type": "display_data"
    },
    {
     "data": {
      "application/vnd.jupyter.widget-view+json": {
       "model_id": "fcb42415961c418386390daa00187648",
       "version_major": 2,
       "version_minor": 0
      },
      "text/plain": [
       "Generating train split:   0%|          | 0/113 [00:00<?, ? examples/s]"
      ]
     },
     "metadata": {},
     "output_type": "display_data"
    },
    {
     "data": {
      "application/vnd.jupyter.widget-view+json": {
       "model_id": "f3fea9c933654b6ab461b69c9e62c896",
       "version_major": 2,
       "version_minor": 0
      },
      "text/plain": [
       "Generating validation split:   0%|          | 0/113 [00:00<?, ? examples/s]"
      ]
     },
     "metadata": {},
     "output_type": "display_data"
    },
    {
     "name": "stdout",
     "output_type": "stream",
     "text": [
      "Dataset parquet downloaded and prepared to /home/9130/.cache/huggingface/datasets/OneFly7___parquet/OneFly7--llama2-politosphere-fine-tuning-supp-anti-others-741ec1876e1ebde6/0.0.0/2a3b91fbd88a2c90d1dbbb32b460cf621d31bd5b05b934492fdef7d8d6f236ec. Subsequent calls will reuse this data.\n"
     ]
    }
   ],
   "source": [
    "pdataset = load_dataset(\"OneFly7/llama2-politosphere-fine-tuning-supp-anti-others\", split=\"train\")"
   ]
  },
  {
   "cell_type": "code",
   "execution_count": 4,
   "metadata": {},
   "outputs": [
    {
     "data": {
      "text/plain": [
       "{'text': '<s>[INST] Sentence: as a federal leo , the very idea of confiscating guns is laughable . i swore an oath to the constitution , not to beto or any other politician . \\nSentiment Polarity: [/INST] support </s>',\n",
       " 'label_text': 'support'}"
      ]
     },
     "execution_count": 4,
     "metadata": {},
     "output_type": "execute_result"
    }
   ],
   "source": [
    "pdataset[0]"
   ]
  },
  {
   "cell_type": "code",
   "execution_count": 5,
   "metadata": {},
   "outputs": [],
   "source": [
    "import torch\n",
    "from transformers import AutoModelForCausalLM, AutoTokenizer, BitsAndBytesConfig, pipeline\n",
    "\n",
    "## Version 2-13b for finetuning\n",
    "base_model_name = \"meta-llama/Llama-2-13b-hf\""
   ]
  },
  {
   "cell_type": "code",
   "execution_count": 6,
   "metadata": {},
   "outputs": [],
   "source": [
    "tokenizer = AutoTokenizer.from_pretrained(base_model_name, trust_remote_code=True)\n",
    "tokenizer.pad_token = tokenizer.eos_token"
   ]
  },
  {
   "cell_type": "code",
   "execution_count": 11,
   "metadata": {},
   "outputs": [
    {
     "name": "stdout",
     "output_type": "stream",
     "text": [
      "[29871, 13, 29903, 296, 2073, 29901]\n",
      "[259, 13, 29903, 296, 2073, 29901]\n",
      "[1, 518, 25580, 29962, 28048, 663, 29901, 9563, 716, 7035, 1080, 515, 278, 3847, 284, 10340, 259, 13, 29903, 296, 2073, 29901, 518, 29914, 25580, 29962, 8178, 29871, 2]\n",
      "[1, 518, 25580, 29962, 28048, 663, 29901, 3743, 694, 12309, 1919, 871, 10212, 287, 330, 810, 259, 13, 29903, 296, 2073, 29901, 518, 29914, 25580, 29962, 8178, 29871, 2]\n",
      "[1, 518, 25580, 29962, 28048, 663, 29901, 393, 12355, 267, 967, 4890, 322, 7212, 1078, 1554, 3265, 9560, 1048, 5199, 5469, 259, 13, 29903, 296, 2073, 29901, 518, 29914, 25580, 29962, 6374, 29871, 2]\n"
     ]
    }
   ],
   "source": [
    "print(tokenizer.encode(\"\\nSentiment:\", add_special_tokens=False))\n",
    "print(tokenizer.encode(\" \\nSentiment:\", add_special_tokens=False))\n",
    "print(tokenizer.encode(dataset[0][\"text\"], add_special_tokens=False))\n",
    "print(tokenizer.encode(dataset[1][\"text\"], add_special_tokens=False))\n",
    "print(tokenizer.encode(dataset[2][\"text\"], add_special_tokens=False))"
   ]
  },
  {
   "cell_type": "code",
   "execution_count": 15,
   "metadata": {},
   "outputs": [
    {
     "name": "stdout",
     "output_type": "stream",
     "text": [
      "[2]\n"
     ]
    }
   ],
   "source": [
    "print(tokenizer.encode(\"</s>\", add_special_tokens=False))"
   ]
  },
  {
   "cell_type": "code",
   "execution_count": 17,
   "metadata": {},
   "outputs": [
    {
     "name": "stdout",
     "output_type": "stream",
     "text": [
      "[1, 518, 25580, 29962, 28048, 663, 29901, 408, 263, 17097, 454, 29877, 1919, 278, 1407, 2969, 310, 1970, 10669, 1218, 18788, 338, 10569, 519, 869, 474, 2381, 487, 385, 288, 493, 304, 278, 16772, 1919, 451, 304, 1010, 29877, 470, 738, 916, 14099, 869, 29871, 13, 29903, 296, 2073, 2043, 279, 537, 29901, 518, 29914, 25580, 29962, 2304, 29871, 2]\n",
      "[1, 518, 25580, 29962, 28048, 663, 29901, 591, 1818, 9892, 445, 4029, 11710, 28639, 310, 1370, 29871, 13, 29903, 296, 2073, 2043, 279, 537, 29901, 518, 29914, 25580, 29962, 9418, 29871, 2]\n",
      "[1, 518, 25580, 29962, 28048, 663, 29901, 366, 525, 276, 5051, 20239, 304, 451, 925, 505, 23926, 6993, 763, 592, 366, 977, 21155, 1236, 294, 1934, 869, 259, 13, 29903, 296, 2073, 2043, 279, 537, 29901, 518, 29914, 25580, 29962, 9418, 29871, 2]\n"
     ]
    }
   ],
   "source": [
    "print(tokenizer.encode(pdataset[0][\"text\"], add_special_tokens=False))\n",
    "print(tokenizer.encode(pdataset[1][\"text\"], add_special_tokens=False))\n",
    "print(tokenizer.encode(pdataset[2][\"text\"], add_special_tokens=False))"
   ]
  },
  {
   "cell_type": "code",
   "execution_count": 20,
   "metadata": {},
   "outputs": [
    {
     "data": {
      "text/plain": [
       "2"
      ]
     },
     "execution_count": 20,
     "metadata": {},
     "output_type": "execute_result"
    }
   ],
   "source": [
    "tokenizer.eos_token_id\n"
   ]
  },
  {
   "cell_type": "code",
   "execution_count": 21,
   "metadata": {},
   "outputs": [
    {
     "name": "stdout",
     "output_type": "stream",
     "text": [
      "[6374]\n",
      "[8178]\n"
     ]
    }
   ],
   "source": [
    "print(tokenizer.encode(\"positive\", add_special_tokens=False))\n",
    "print(tokenizer.encode(\"negative\", add_special_tokens=False))"
   ]
  },
  {
   "cell_type": "code",
   "execution_count": 22,
   "metadata": {},
   "outputs": [
    {
     "name": "stdout",
     "output_type": "stream",
     "text": [
      "[2304]\n",
      "[9418]\n",
      "[4045]\n"
     ]
    }
   ],
   "source": [
    "print(tokenizer.encode(\"support\", add_special_tokens=False))\n",
    "print(tokenizer.encode(\"anti\", add_special_tokens=False))\n",
    "print(tokenizer.encode(\"others\", add_special_tokens=False))"
   ]
  },
  {
   "cell_type": "code",
   "execution_count": null,
   "metadata": {},
   "outputs": [],
   "source": []
  }
 ],
 "metadata": {
  "kernelspec": {
   "display_name": "Python 3 (ipykernel)",
   "language": "python",
   "name": "python3"
  },
  "language_info": {
   "codemirror_mode": {
    "name": "ipython",
    "version": 3
   },
   "file_extension": ".py",
   "mimetype": "text/x-python",
   "name": "python",
   "nbconvert_exporter": "python",
   "pygments_lexer": "ipython3",
   "version": "3.10.12"
  },
  "orig_nbformat": 4
 },
 "nbformat": 4,
 "nbformat_minor": 2
}
